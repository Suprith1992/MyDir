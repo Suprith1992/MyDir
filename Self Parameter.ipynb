{
 "cells": [
  {
   "cell_type": "code",
   "execution_count": 1,
   "metadata": {},
   "outputs": [
    {
     "ename": "TypeError",
     "evalue": "employeeDetails() takes 0 positional arguments but 1 was given",
     "output_type": "error",
     "traceback": [
      "\u001b[1;31m---------------------------------------------------------------------------\u001b[0m",
      "\u001b[1;31mTypeError\u001b[0m                                 Traceback (most recent call last)",
      "\u001b[1;32m<ipython-input-1-672a10cda43c>\u001b[0m in \u001b[0;36m<module>\u001b[1;34m()\u001b[0m\n\u001b[0;32m      4\u001b[0m \u001b[1;33m\u001b[0m\u001b[0m\n\u001b[0;32m      5\u001b[0m \u001b[0memployee\u001b[0m \u001b[1;33m=\u001b[0m \u001b[0mEmployee\u001b[0m\u001b[1;33m(\u001b[0m\u001b[1;33m)\u001b[0m\u001b[1;33m\u001b[0m\u001b[0m\n\u001b[1;32m----> 6\u001b[1;33m \u001b[0memployee\u001b[0m\u001b[1;33m.\u001b[0m\u001b[0memployeeDetails\u001b[0m\u001b[1;33m(\u001b[0m\u001b[1;33m)\u001b[0m\u001b[1;33m\u001b[0m\u001b[0m\n\u001b[0m\u001b[0;32m      7\u001b[0m \u001b[1;33m\u001b[0m\u001b[0m\n\u001b[0;32m      8\u001b[0m \u001b[1;31m#how method calling is handled by python though we are calling in this way employee.employeeDetails() python interpreter\u001b[0m\u001b[1;33m\u001b[0m\u001b[1;33m\u001b[0m\u001b[0m\n",
      "\u001b[1;31mTypeError\u001b[0m: employeeDetails() takes 0 positional arguments but 1 was given"
     ]
    }
   ],
   "source": [
    "class Employee:\n",
    "    def employeeDetails():\n",
    "        pass\n",
    "    \n",
    "employee = Employee()\n",
    "employee.employeeDetails()\n",
    "\n",
    "#how method calling is handled by python though we are calling in this way employee.employeeDetails() python interpreter \n",
    "#converts into Employee.employeeDetails(employee) so it throws error as paramater is given but not provided any paramter while\n",
    "# calling function, so we are passing object as first parameter and by convention it is called as self. so if we come across self \n",
    "#in code it is understood as it is referring to object itself\n",
    "\n",
    "Employee.employeeDetails(employee)\n",
    "\n",
    "#how to use self is shown in next example to over come this error"
   ]
  },
  {
   "cell_type": "code",
   "execution_count": 2,
   "metadata": {},
   "outputs": [
    {
     "name": "stdout",
     "output_type": "stream",
     "text": [
      "name is Bhisma\n",
      "16\n",
      "prining in another method\n",
      "name is Bhisma\n"
     ]
    },
    {
     "ename": "NameError",
     "evalue": "name 'age' is not defined",
     "output_type": "error",
     "traceback": [
      "\u001b[1;31m---------------------------------------------------------------------------\u001b[0m",
      "\u001b[1;31mNameError\u001b[0m                                 Traceback (most recent call last)",
      "\u001b[1;32m<ipython-input-2-e60aeac60633>\u001b[0m in \u001b[0;36m<module>\u001b[1;34m()\u001b[0m\n\u001b[0;32m     13\u001b[0m \u001b[0memployee\u001b[0m \u001b[1;33m=\u001b[0m \u001b[0mEmployee\u001b[0m\u001b[1;33m(\u001b[0m\u001b[1;33m)\u001b[0m\u001b[1;33m\u001b[0m\u001b[0m\n\u001b[0;32m     14\u001b[0m \u001b[0memployee\u001b[0m\u001b[1;33m.\u001b[0m\u001b[0memployeeDetails\u001b[0m\u001b[1;33m(\u001b[0m\u001b[1;33m)\u001b[0m\u001b[1;33m\u001b[0m\u001b[0m\n\u001b[1;32m---> 15\u001b[1;33m \u001b[0memployee\u001b[0m\u001b[1;33m.\u001b[0m\u001b[0mprintEmployeeDetails\u001b[0m\u001b[1;33m(\u001b[0m\u001b[1;33m)\u001b[0m\u001b[1;33m\u001b[0m\u001b[0m\n\u001b[0m\u001b[0;32m     16\u001b[0m \u001b[1;33m\u001b[0m\u001b[0m\n\u001b[0;32m     17\u001b[0m \u001b[1;33m\u001b[0m\u001b[0m\n",
      "\u001b[1;32m<ipython-input-2-e60aeac60633>\u001b[0m in \u001b[0;36mprintEmployeeDetails\u001b[1;34m(self)\u001b[0m\n\u001b[0;32m      9\u001b[0m         \u001b[0mprint\u001b[0m\u001b[1;33m(\u001b[0m\u001b[1;34m\"prining in another method\"\u001b[0m\u001b[1;33m)\u001b[0m\u001b[1;33m\u001b[0m\u001b[0m\n\u001b[0;32m     10\u001b[0m         \u001b[0mprint\u001b[0m\u001b[1;33m(\u001b[0m\u001b[1;34m'name is '\u001b[0m\u001b[1;33m+\u001b[0m\u001b[0mself\u001b[0m\u001b[1;33m.\u001b[0m\u001b[0mname\u001b[0m\u001b[1;33m)\u001b[0m\u001b[1;33m\u001b[0m\u001b[0m\n\u001b[1;32m---> 11\u001b[1;33m         \u001b[0mprint\u001b[0m\u001b[1;33m(\u001b[0m\u001b[1;34m'age is '\u001b[0m \u001b[1;33m+\u001b[0m\u001b[0mage\u001b[0m\u001b[1;33m)\u001b[0m\u001b[1;33m\u001b[0m\u001b[0m\n\u001b[0m\u001b[0;32m     12\u001b[0m \u001b[1;33m\u001b[0m\u001b[0m\n\u001b[0;32m     13\u001b[0m \u001b[0memployee\u001b[0m \u001b[1;33m=\u001b[0m \u001b[0mEmployee\u001b[0m\u001b[1;33m(\u001b[0m\u001b[1;33m)\u001b[0m\u001b[1;33m\u001b[0m\u001b[0m\n",
      "\u001b[1;31mNameError\u001b[0m: name 'age' is not defined"
     ]
    }
   ],
   "source": [
    "class Employee:\n",
    "    def employeeDetails(self):\n",
    "        self.name = 'Bhisma'\n",
    "        print(\"name is \" +self.name)\n",
    "        age = 16  #here age is available only in this method, once method is terminated it cannot be accessed in other methods\n",
    "        print(age) #prints age\n",
    "        \n",
    "    def printEmployeeDetails(self):\n",
    "        print(\"prining in another method\")\n",
    "        print('name is '+self.name)\n",
    "        print('age is ' +age)\n",
    "    \n",
    "employee = Employee()\n",
    "employee.employeeDetails()\n",
    "employee.printEmployeeDetails()\n",
    "\n",
    "\n",
    "#what if we try to create attribute without using self parameter. lets check it out\n",
    "#when we create an instance attribute ,that attribute should be available till life span of object\n",
    "#age attribute will not be available in case if other method is defined when age is initiated without self"
   ]
  },
  {
   "cell_type": "code",
   "execution_count": 14,
   "metadata": {},
   "outputs": [
    {
     "name": "stdout",
     "output_type": "stream",
     "text": [
      "name is Bhisma\n",
      "16\n",
      "prining in another method\n",
      "name is Bhisma\n",
      "age is 16\n"
     ]
    }
   ],
   "source": [
    "class Employee:\n",
    "    def employeeDetails(self):\n",
    "        self.name = 'Bhisma'\n",
    "        print(\"name is \" +self.name)\n",
    "        self.age = '16'  \n",
    "        print(self.age) \n",
    "        \n",
    "    def printEmployeeDetails(self):\n",
    "        print(\"prining in another method\")\n",
    "        print('name is '+self.name)\n",
    "        print('age is ' +self.age)\n",
    "    \n",
    "employee = Employee()\n",
    "employee.employeeDetails()\n",
    "employee.printEmployeeDetails()"
   ]
  },
  {
   "cell_type": "markdown",
   "metadata": {},
   "source": [
    "# Static methods and instance methods\n"
   ]
  },
  {
   "cell_type": "code",
   "execution_count": 18,
   "metadata": {},
   "outputs": [
    {
     "name": "stdout",
     "output_type": "stream",
     "text": [
      "tim\n",
      "welcome to our organization\n"
     ]
    }
   ],
   "source": [
    "class Employee:\n",
    "    def employeeDetails(self,name):\n",
    "        self.name = name\n",
    "        \n",
    "    def welcomeMsg(self): # i.e no where in body of method we are using self..so what is the need of passing self?\n",
    "        print(\"welcome to our organization\")\n",
    "        \n",
    "employee = Employee()\n",
    "employee.employeeDetails(\"tim\")\n",
    "print(employee.name)\n",
    "\n",
    "employee.welcomeMsg()\n",
    "\n",
    "#parameter self is taken off in next example and executed"
   ]
  },
  {
   "cell_type": "code",
   "execution_count": 19,
   "metadata": {},
   "outputs": [
    {
     "name": "stdout",
     "output_type": "stream",
     "text": [
      "tim\n"
     ]
    },
    {
     "ename": "TypeError",
     "evalue": "welcomeMsg() takes 0 positional arguments but 1 was given",
     "output_type": "error",
     "traceback": [
      "\u001b[1;31m---------------------------------------------------------------------------\u001b[0m",
      "\u001b[1;31mTypeError\u001b[0m                                 Traceback (most recent call last)",
      "\u001b[1;32m<ipython-input-19-8cf519bf4b00>\u001b[0m in \u001b[0;36m<module>\u001b[1;34m()\u001b[0m\n\u001b[0;32m     10\u001b[0m \u001b[0mprint\u001b[0m\u001b[1;33m(\u001b[0m\u001b[0memployee\u001b[0m\u001b[1;33m.\u001b[0m\u001b[0mname\u001b[0m\u001b[1;33m)\u001b[0m\u001b[1;33m\u001b[0m\u001b[0m\n\u001b[0;32m     11\u001b[0m \u001b[1;33m\u001b[0m\u001b[0m\n\u001b[1;32m---> 12\u001b[1;33m \u001b[0memployee\u001b[0m\u001b[1;33m.\u001b[0m\u001b[0mwelcomeMsg\u001b[0m\u001b[1;33m(\u001b[0m\u001b[1;33m)\u001b[0m\u001b[1;33m\u001b[0m\u001b[0m\n\u001b[0m",
      "\u001b[1;31mTypeError\u001b[0m: welcomeMsg() takes 0 positional arguments but 1 was given"
     ]
    }
   ],
   "source": [
    "class Employee:\n",
    "    def employeeDetails(self,name):\n",
    "        self.name = name\n",
    "        \n",
    "    def welcomeMsg(): #without passing self\n",
    "        print(\"welcome to our organization\")\n",
    "        \n",
    "employee = Employee()\n",
    "employee.employeeDetails(\"tim\")\n",
    "print(employee.name)\n",
    "\n",
    "employee.welcomeMsg()"
   ]
  },
  {
   "cell_type": "code",
   "execution_count": 20,
   "metadata": {},
   "outputs": [
    {
     "name": "stdout",
     "output_type": "stream",
     "text": [
      "tim\n",
      "welcome to our organization\n"
     ]
    }
   ],
   "source": [
    "# it is been carried out by using static mehod\n",
    "#static method is the method which doesnot take default self parameter\n",
    "# @staticmethod decorator is used to differentiate between static and instance method\n",
    "\n",
    "#decorators start with @ and decorators are functions that takes another function and extend thier functionality nd ignores binding of object\n",
    "\n",
    "class Employee:\n",
    "    def employeeDetails(self,name):\n",
    "        self.name = name\n",
    "    \n",
    "    @staticmethod\n",
    "    def welcomeMsg():\n",
    "        print(\"welcome to our organization\")\n",
    "        \n",
    "employee = Employee()\n",
    "employee.employeeDetails(\"tim\")\n",
    "print(employee.name)\n",
    "\n",
    "employee.welcomeMsg()"
   ]
  },
  {
   "cell_type": "code",
   "execution_count": null,
   "metadata": {
    "collapsed": true
   },
   "outputs": [],
   "source": []
  }
 ],
 "metadata": {
  "kernelspec": {
   "display_name": "Python 3",
   "language": "python",
   "name": "python3"
  },
  "language_info": {
   "codemirror_mode": {
    "name": "ipython",
    "version": 3
   },
   "file_extension": ".py",
   "mimetype": "text/x-python",
   "name": "python",
   "nbconvert_exporter": "python",
   "pygments_lexer": "ipython3",
   "version": "3.6.3"
  }
 },
 "nbformat": 4,
 "nbformat_minor": 2
}
