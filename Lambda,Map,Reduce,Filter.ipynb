{
 "cells": [
  {
   "cell_type": "markdown",
   "metadata": {},
   "source": [
    "## Lambda Function\n",
    "\n",
    "**It is an anonymous function,i.e defined without a name.\n",
    "While normal functions are defined using the def keyword, in Python anonymous functions are defined using the lambda keyword.**\n",
    "\n"
   ]
  },
  {
   "cell_type": "markdown",
   "metadata": {},
   "source": [
    "#### syntax\n",
    "\n",
    "**lambda < arguments >: < expression >**"
   ]
  },
  {
   "cell_type": "markdown",
   "metadata": {},
   "source": [
    "#### 1. Lambda functions can have any number of arguments but only one expression\n",
    "#### 2. The expression is evaluated and returned\n",
    "#### 3. Lambda functions can be used wherever function objects are required."
   ]
  },
  {
   "cell_type": "code",
   "execution_count": 7,
   "metadata": {},
   "outputs": [
    {
     "name": "stdout",
     "output_type": "stream",
     "text": [
      "25\n"
     ]
    }
   ],
   "source": [
    "# function to find square of a number \n",
    "def sqr(x):\n",
    "0    return x * x\n",
    "\n",
    "print(sqr(5))"
   ]
  },
  {
   "cell_type": "code",
   "execution_count": 8,
   "metadata": {},
   "outputs": [
    {
     "name": "stdout",
     "output_type": "stream",
     "text": [
      "25\n"
     ]
    }
   ],
   "source": [
    "#above function can be converted into lambda function to find square of a number\n",
    "sqr = lambda x:x*x #here lambda x:x*x is the lambda function,x is arg,x*x is expression which is evaluated and returned.This function has no name.It returns a function object which is assigned to the identifier sqr\n",
    "print(sqr(5))"
   ]
  },
  {
   "cell_type": "code",
   "execution_count": 10,
   "metadata": {},
   "outputs": [
    {
     "name": "stdout",
     "output_type": "stream",
     "text": [
      "52\n",
      "<class 'function'>\n"
     ]
    }
   ],
   "source": [
    "#few more examples\n",
    "\n",
    "add = lambda x,y:x + y\n",
    "print(add(45,7))\n",
    "print(type(add))"
   ]
  },
  {
   "cell_type": "code",
   "execution_count": 12,
   "metadata": {},
   "outputs": [
    {
     "data": {
      "text/plain": [
       "15"
      ]
     },
     "execution_count": 12,
     "metadata": {},
     "output_type": "execute_result"
    }
   ],
   "source": [
    "# we can also do it by without assigning lambda function to a variable\n",
    "\n",
    "(lambda x,y:x * y) (5,3)"
   ]
  },
  {
   "cell_type": "code",
   "execution_count": 17,
   "metadata": {},
   "outputs": [
    {
     "name": "stdout",
     "output_type": "stream",
     "text": [
      "[2, 4, 6, 8, 10, 12, 14]\n"
     ]
    }
   ],
   "source": [
    "#lambda in list comprehension\n",
    "\n",
    "n = lambda x : x * 2\n",
    "a = [n(x) for x in range(1,8)]\n",
    "print(a)"
   ]
  },
  {
   "cell_type": "code",
   "execution_count": 18,
   "metadata": {},
   "outputs": [
    {
     "name": "stdout",
     "output_type": "stream",
     "text": [
      "[2, 4, 6, 8, 10, 12, 14]\n"
     ]
    }
   ],
   "source": [
    "#lambda in list comprehension\n",
    "\n",
    "a = [(lambda x : x * 2)(x) for x in range(1,8)]\n",
    "print(a)"
   ]
  },
  {
   "cell_type": "code",
   "execution_count": 20,
   "metadata": {},
   "outputs": [
    {
     "name": "stdout",
     "output_type": "stream",
     "text": [
      "16\n",
      "343\n"
     ]
    }
   ],
   "source": [
    "l1 = lambda x : x ** 2 if x % 2 == 0 else x ** 3\n",
    "print(l1(4))#even arg\n",
    "print(l1(7)) # odd arg, else condition "
   ]
  },
  {
   "cell_type": "markdown",
   "metadata": {},
   "source": [
    "## map(): a builtin function"
   ]
  },
  {
   "cell_type": "markdown",
   "metadata": {},
   "source": [
    "#### syntax: map(function,iterable)\n",
    "    \n",
    "##### function: It is a function to which map passes each element of given iterable\n",
    "##### iterable: It is a iterable which is to be mapped."
   ]
  },
  {
   "cell_type": "code",
   "execution_count": 23,
   "metadata": {},
   "outputs": [
    {
     "name": "stdout",
     "output_type": "stream",
     "text": [
      "[2, 6, 8, 10]\n"
     ]
    }
   ],
   "source": [
    "# lambda function is used with builtin function map and filter\n",
    "\n",
    "a = [1,3,4,5]\n",
    "m = list(map(lambda x : x *2,a))\n",
    "print(m)"
   ]
  },
  {
   "cell_type": "markdown",
   "metadata": {},
   "source": [
    "##### NOTE: The returned value from map() (map object) then can be passed to functions like list() (to create a list), set() (to create a set) "
   ]
  },
  {
   "cell_type": "code",
   "execution_count": 24,
   "metadata": {},
   "outputs": [
    {
     "name": "stdout",
     "output_type": "stream",
     "text": [
      "[5, 7, 9]\n"
     ]
    }
   ],
   "source": [
    "# Add two lists using map and lambda\n",
    " \n",
    "numbers1 = [1, 2, 3]\n",
    "numbers2 = [4, 5, 6]\n",
    " \n",
    "result = map(lambda x, y: x + y, numbers1, numbers2)\n",
    "print(list(result))"
   ]
  },
  {
   "cell_type": "markdown",
   "metadata": {},
   "source": [
    "### filter() function"
   ]
  },
  {
   "cell_type": "markdown",
   "metadata": {},
   "source": [
    "### The filter() function in Python takes in a function and a list as arguments\n",
    "\n",
    "#### The function is called with all the items in the list and a new list is returned which contains items for which the function evaluats to True"
   ]
  },
  {
   "cell_type": "code",
   "execution_count": 27,
   "metadata": {},
   "outputs": [
    {
     "name": "stdout",
     "output_type": "stream",
     "text": [
      "[4, 6, 8, 12]\n"
     ]
    }
   ],
   "source": [
    "# Program to filter out only the even items from a list\n",
    "\n",
    "my_list = [1, 5, 4, 6, 8, 11, 3, 12]\n",
    "\n",
    "new_list = list(filter(lambda x: (x%2 == 0) , my_list))\n",
    "\n",
    "print(new_list)"
   ]
  },
  {
   "cell_type": "markdown",
   "metadata": {},
   "source": [
    "### reduce()"
   ]
  },
  {
   "cell_type": "code",
   "execution_count": 35,
   "metadata": {},
   "outputs": [
    {
     "name": "stdout",
     "output_type": "stream",
     "text": [
      "sum is:  193\n",
      "sub is:  -183\n",
      "prod is:  40000000\n"
     ]
    }
   ],
   "source": [
    "#reduce() function in Python takes in a function and a list as argument.\n",
    "#The function is called with a lambda function and a list and a new reduced result is returned.\n",
    "#This performs a repetitive operation over the pairs of the list. \n",
    "\n",
    "from functools import reduce\n",
    "li = [5, 8, 10, 20, 50, 100]\n",
    "add = reduce((lambda x, y: x + y), li)\n",
    "sub = reduce((lambda x, y: x - y), li)\n",
    "prod = reduce((lambda x, y: x * y), li)\n",
    "print ('sum is: ', add)\n",
    "print ('sub is: ',sub)\n",
    "print ('prod is: ',prod)"
   ]
  },
  {
   "cell_type": "code",
   "execution_count": null,
   "metadata": {
    "collapsed": true
   },
   "outputs": [],
   "source": []
  }
 ],
 "metadata": {
  "kernelspec": {
   "display_name": "Python 3",
   "language": "python",
   "name": "python3"
  },
  "language_info": {
   "codemirror_mode": {
    "name": "ipython",
    "version": 3
   },
   "file_extension": ".py",
   "mimetype": "text/x-python",
   "name": "python",
   "nbconvert_exporter": "python",
   "pygments_lexer": "ipython3",
   "version": "3.6.3"
  }
 },
 "nbformat": 4,
 "nbformat_minor": 2
}
