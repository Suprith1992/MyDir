{
 "cells": [
  {
   "cell_type": "code",
   "execution_count": 18,
   "metadata": {},
   "outputs": [
    {
     "name": "stdout",
     "output_type": "stream",
     "text": [
      "<_sre.SRE_Match object; span=(11, 23), match='203-555-3475'>\n",
      "<_sre.SRE_Match object; span=(95, 107), match='884-555-8444'>\n",
      "<_sre.SRE_Match object; span=(182, 194), match='904-555-8559'>\n",
      "<_sre.SRE_Match object; span=(270, 282), match='889-555-7393'>\n",
      "<_sre.SRE_Match object; span=(357, 369), match='195-555-2405'>\n",
      "<_sre.SRE_Match object; span=(442, 454), match='321-555-9053'>\n",
      "<_sre.SRE_Match object; span=(529, 541), match='133-555-1711'>\n",
      "<_sre.SRE_Match object; span=(621, 633), match='900-555-5428'>\n",
      "<_sre.SRE_Match object; span=(710, 722), match='760-555-7147'>\n",
      "<_sre.SRE_Match object; span=(809, 821), match='391-555-6621'>\n",
      "<_sre.SRE_Match object; span=(900, 912), match='932-555-7724'>\n",
      "<_sre.SRE_Match object; span=(989, 1001), match='609-555-7908'>\n",
      "<_sre.SRE_Match object; span=(1081, 1093), match='800-555-8810'>\n",
      "<_sre.SRE_Match object; span=(1169, 1181), match='149-555-7657'>\n",
      "<_sre.SRE_Match object; span=(1249, 1261), match='130-555-9709'>\n",
      "<_sre.SRE_Match object; span=(1332, 1344), match='143-555-9295'>\n",
      "<_sre.SRE_Match object; span=(1421, 1433), match='903-555-9878'>\n",
      "<_sre.SRE_Match object; span=(1511, 1523), match='574-555-3194'>\n",
      "<_sre.SRE_Match object; span=(1599, 1611), match='496-555-7533'>\n",
      "<_sre.SRE_Match object; span=(1684, 1696), match='210-555-3757'>\n",
      "<_sre.SRE_Match object; span=(1768, 1780), match='900-555-9598'>\n",
      "<_sre.SRE_Match object; span=(1853, 1865), match='866-555-9844'>\n",
      "<_sre.SRE_Match object; span=(1937, 1949), match='669-555-7159'>\n",
      "<_sre.SRE_Match object; span=(2022, 2034), match='152-555-7417'>\n",
      "<_sre.SRE_Match object; span=(2114, 2126), match='893-555-9832'>\n",
      "<_sre.SRE_Match object; span=(2204, 2216), match='217-555-7123'>\n",
      "<_sre.SRE_Match object; span=(2295, 2307), match='786-555-6544'>\n",
      "<_sre.SRE_Match object; span=(2385, 2397), match='780-555-2574'>\n",
      "<_sre.SRE_Match object; span=(2473, 2485), match='926-555-8735'>\n",
      "<_sre.SRE_Match object; span=(2559, 2571), match='895-555-3539'>\n",
      "<_sre.SRE_Match object; span=(2656, 2668), match='874-555-3949'>\n",
      "<_sre.SRE_Match object; span=(2742, 2754), match='800-555-2420'>\n",
      "<_sre.SRE_Match object; span=(2831, 2843), match='936-555-6340'>\n",
      "<_sre.SRE_Match object; span=(2920, 2932), match='372-555-9809'>\n",
      "<_sre.SRE_Match object; span=(3007, 3019), match='890-555-5618'>\n",
      "<_sre.SRE_Match object; span=(3089, 3101), match='670-555-3005'>\n",
      "<_sre.SRE_Match object; span=(3179, 3191), match='509-555-5997'>\n",
      "<_sre.SRE_Match object; span=(3272, 3284), match='721-555-5632'>\n",
      "<_sre.SRE_Match object; span=(3363, 3375), match='900-555-3567'>\n",
      "<_sre.SRE_Match object; span=(3453, 3465), match='147-555-6830'>\n",
      "<_sre.SRE_Match object; span=(3542, 3554), match='582-555-3426'>\n",
      "<_sre.SRE_Match object; span=(3627, 3639), match='400-555-1706'>\n",
      "<_sre.SRE_Match object; span=(3718, 3730), match='525-555-1793'>\n",
      "<_sre.SRE_Match object; span=(3808, 3820), match='317-555-6700'>\n",
      "<_sre.SRE_Match object; span=(3896, 3908), match='974-555-8301'>\n",
      "<_sre.SRE_Match object; span=(3986, 3998), match='800-555-3216'>\n",
      "<_sre.SRE_Match object; span=(4072, 4084), match='746-555-4094'>\n",
      "<_sre.SRE_Match object; span=(4159, 4171), match='922-555-1773'>\n",
      "<_sre.SRE_Match object; span=(4244, 4256), match='711-555-4427'>\n",
      "<_sre.SRE_Match object; span=(4329, 4341), match='355-555-1872'>\n",
      "<_sre.SRE_Match object; span=(4418, 4430), match='852-555-6521'>\n",
      "<_sre.SRE_Match object; span=(4510, 4522), match='691-555-5773'>\n",
      "<_sre.SRE_Match object; span=(4602, 4614), match='332-555-5441'>\n",
      "<_sre.SRE_Match object; span=(4688, 4700), match='900-555-7755'>\n",
      "<_sre.SRE_Match object; span=(4770, 4782), match='379-555-3685'>\n",
      "<_sre.SRE_Match object; span=(4860, 4872), match='127-555-9682'>\n",
      "<_sre.SRE_Match object; span=(4951, 4963), match='789-555-7032'>\n",
      "<_sre.SRE_Match object; span=(5042, 5054), match='783-555-5135'>\n",
      "<_sre.SRE_Match object; span=(5135, 5147), match='315-555-6507'>\n",
      "<_sre.SRE_Match object; span=(5226, 5238), match='481-555-5835'>\n",
      "<_sre.SRE_Match object; span=(5314, 5326), match='365-555-8287'>\n",
      "<_sre.SRE_Match object; span=(5406, 5418), match='911-555-7535'>\n",
      "<_sre.SRE_Match object; span=(5492, 5504), match='681-555-2460'>\n",
      "<_sre.SRE_Match object; span=(5578, 5590), match='274-555-9800'>\n",
      "<_sre.SRE_Match object; span=(5663, 5675), match='800-555-1372'>\n",
      "<_sre.SRE_Match object; span=(5752, 5764), match='300-555-7821'>\n",
      "<_sre.SRE_Match object; span=(5842, 5854), match='133-555-3889'>\n",
      "<_sre.SRE_Match object; span=(5930, 5942), match='705-555-6863'>\n",
      "<_sre.SRE_Match object; span=(6019, 6031), match='215-555-9449'>\n",
      "<_sre.SRE_Match object; span=(6110, 6122), match='988-555-6112'>\n",
      "<_sre.SRE_Match object; span=(6196, 6208), match='623-555-3006'>\n",
      "<_sre.SRE_Match object; span=(6280, 6292), match='192-555-4977'>\n",
      "<_sre.SRE_Match object; span=(6365, 6377), match='178-555-4899'>\n",
      "<_sre.SRE_Match object; span=(6449, 6461), match='952-555-3089'>\n"
     ]
    }
   ],
   "source": [
    "import re\n",
    "\n",
    "pattern = re.compile(r'\\d{3}.\\d{3}.\\d{4}')\n",
    "\n",
    "f = open('Data.txt','r')\n",
    "contents = f.read()\n",
    "\n",
    "matches = pattern.finditer(contents)\n",
    "\n",
    "for match in matches:\n",
    "    print(match)\n",
    "    "
   ]
  },
  {
   "cell_type": "code",
   "execution_count": null,
   "metadata": {
    "collapsed": true
   },
   "outputs": [],
   "source": []
  }
 ],
 "metadata": {
  "kernelspec": {
   "display_name": "Python 3",
   "language": "python",
   "name": "python3"
  },
  "language_info": {
   "codemirror_mode": {
    "name": "ipython",
    "version": 3
   },
   "file_extension": ".py",
   "mimetype": "text/x-python",
   "name": "python",
   "nbconvert_exporter": "python",
   "pygments_lexer": "ipython3",
   "version": "3.6.3"
  }
 },
 "nbformat": 4,
 "nbformat_minor": 2
}
